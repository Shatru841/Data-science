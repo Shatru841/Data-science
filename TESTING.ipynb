{
 "cells": [
  {
   "cell_type": "code",
   "execution_count": 4,
   "id": "8c3ec220",
   "metadata": {},
   "outputs": [
    {
     "name": "stdout",
     "output_type": "stream",
     "text": [
      "SHATRUGHAN KUMAR\n"
     ]
    }
   ],
   "source": [
    "print(\"SHATRUGHAN KUMAR\")"
   ]
  },
  {
   "cell_type": "code",
   "execution_count": 6,
   "id": "71e20a01",
   "metadata": {},
   "outputs": [
    {
     "name": "stdout",
     "output_type": "stream",
     "text": [
      "36\n"
     ]
    }
   ],
   "source": [
    "print(10+26)"
   ]
  },
  {
   "cell_type": "code",
   "execution_count": 12,
   "id": "f94343af",
   "metadata": {},
   "outputs": [
    {
     "name": "stdout",
     "output_type": "stream",
     "text": [
      "ESC+A=To Add Cell\n"
     ]
    }
   ],
   "source": [
    "print(\"ESC+A=To Add Cell\")"
   ]
  },
  {
   "cell_type": "code",
   "execution_count": 11,
   "id": "53a64c62",
   "metadata": {},
   "outputs": [
    {
     "name": "stdout",
     "output_type": "stream",
     "text": [
      "ESC+D+D=To Dlt Cell\n"
     ]
    }
   ],
   "source": [
    "print(\"ESC+D+D=To Dlt Cell\")"
   ]
  },
  {
   "cell_type": "code",
   "execution_count": 13,
   "id": "34ecb2c9",
   "metadata": {},
   "outputs": [
    {
     "name": "stdout",
     "output_type": "stream",
     "text": [
      "CTRL+ENTER=To Execute or run\n"
     ]
    }
   ],
   "source": [
    "print(\"CTRL+ENTER=To Execute or run\")"
   ]
  }
 ],
 "metadata": {
  "kernelspec": {
   "display_name": "Python 3 (ipykernel)",
   "language": "python",
   "name": "python3"
  },
  "language_info": {
   "codemirror_mode": {
    "name": "ipython",
    "version": 3
   },
   "file_extension": ".py",
   "mimetype": "text/x-python",
   "name": "python",
   "nbconvert_exporter": "python",
   "pygments_lexer": "ipython3",
   "version": "3.11.3"
  }
 },
 "nbformat": 4,
 "nbformat_minor": 5
}
